{
 "cells": [
  {
   "cell_type": "code",
   "execution_count": 31,
   "metadata": {},
   "outputs": [
    {
     "name": "stdout",
     "output_type": "stream",
     "text": [
      "finished stacking output files\n"
     ]
    }
   ],
   "source": [
    "from pathlib import Path\n",
    "import pandas as pd\n",
    "import random\n",
    "import os\n",
    "import datetime\n",
    "\n",
    "\n",
    "\n",
    "\n",
    "\n",
    "\n",
    "def recursive_rowstack_dataframes(basedir, filename):\n",
    "    \n",
    "    dfs = []\n",
    "    for path in Path(basedir).rglob(filename):\n",
    "        dfs.append(pd.read_csv(path))\n",
    "    df = pd.concat(dfs)\n",
    "    df.reset_index(drop=True, inplace=True)\n",
    "    return(df)\n",
    "        \n",
    "    \n",
    "    \n",
    "\n",
    "# Create a new output folder to hold the stacked tables.\n",
    "OUTPUT_DIR = os.path.join(\"../outputs\",\"{}_{}_{}\".format(\"merged\",datetime.datetime.now().strftime('%m_%d_%Y_h%Hm%Ms%S'),random.randrange(1000,9999)))\n",
    "os.mkdir(OUTPUT_DIR)\n",
    "    \n",
    "    \n",
    "# Where to look for these files to stack?\n",
    "BASEDIR = \"/Users/irbraun/Desktop/droplet/phenologs-with-oats/outputs\"\n",
    "\n",
    "\n",
    "# The names of the final path components for files that should be stacked.\n",
    "FILES_TO_BE_STACKED = [\n",
    "    \"approaches.csv\",\n",
    "    \"auc.csv\",\n",
    "    \"f1_max.csv\",\n",
    "    \"full_table_with_all_metrics.csv\",\n",
    "    \"precision_recall_curves.csv\",\n",
    "]\n",
    "    \n",
    "    \n",
    "# For each of those files, stack them and write to a new file.\n",
    "for filename in FILES_TO_BE_STACKED:\n",
    "    new_filename = \"merged_{}\".format(filename)\n",
    "    df = recursive_rowstack_dataframes(BASEDIR, filename)\n",
    "    df.to_csv(os.path.join(OUTPUT_DIR,new_filename), index=False)\n",
    "\n",
    "    \n",
    "print(\"finished stacking output files\")\n",
    "\n",
    "\n",
    "\n"
   ]
  }
 ],
 "metadata": {
  "kernelspec": {
   "display_name": "Python 3",
   "language": "python",
   "name": "python3"
  },
  "language_info": {
   "codemirror_mode": {
    "name": "ipython",
    "version": 3
   },
   "file_extension": ".py",
   "mimetype": "text/x-python",
   "name": "python",
   "nbconvert_exporter": "python",
   "pygments_lexer": "ipython3",
   "version": "3.6.10"
  }
 },
 "nbformat": 4,
 "nbformat_minor": 4
}
