{
 "cells": [
  {
   "cell_type": "markdown",
   "metadata": {},
   "source": [
    "## Data from Maize GDB\n",
    "The purpose of this notebook is to read in and "
   ]
  },
  {
   "cell_type": "code",
   "execution_count": null,
   "metadata": {},
   "outputs": [],
   "source": []
  },
  {
   "cell_type": "code",
   "execution_count": null,
   "metadata": {},
   "outputs": [],
   "source": []
  },
  {
   "cell_type": "code",
   "execution_count": null,
   "metadata": {},
   "outputs": [],
   "source": []
  },
  {
   "cell_type": "code",
   "execution_count": null,
   "metadata": {},
   "outputs": [],
   "source": []
  },
  {
   "cell_type": "code",
   "execution_count": null,
   "metadata": {},
   "outputs": [],
   "source": []
  },
  {
   "cell_type": "code",
   "execution_count": null,
   "metadata": {},
   "outputs": [],
   "source": []
  },
  {
   "cell_type": "code",
   "execution_count": null,
   "metadata": {},
   "outputs": [],
   "source": [
    "# Read in the MaizeGDB dataset.\n",
    "filename = \"../data/sources/maizegdb/pheno_genes.txt\"\n",
    "usecols = [\"phenotype_name\", \"phenotype_description\", \"locus_name\", \"alleles\", \"locus_synonyms\", \"v3_gene_model\", \"v4_gene_model\", \"uniprot_id\", \"ncbi_gene\"]\n",
    "df = pd.read_table(filename, usecols=usecols)\n",
    "df.fillna(\"\", inplace=True)\n",
    "\n",
    "# Column manipulation that's specific to this dataset.\n",
    "df[\"description\"] = np.vectorize(concatenate_descriptions)(df[\"phenotype_name\"], df[\"phenotype_description\"])\n",
    "df[\"v3_gene_model\"] = df[\"v3_gene_model\"].apply(add_prefix, prefix=constants.REFGEN_V3_TAG)\n",
    "df[\"v4_gene_model\"] = df[\"v4_gene_model\"].apply(add_prefix, prefix=constants.REFGEN_V4_TAG)\n",
    "df[\"uniprot_id\"] = df[\"uniprot_id\"].apply(add_prefix, prefix=constants.UNIPROT_TAG)\n",
    "df[\"ncbi_gene\"] = df[\"ncbi_gene\"].apply(add_prefix, prefix=constants.NCBI_TAG)\n",
    "df[\"gene_names\"] = np.vectorize(concatenate_with_bar_delim)(df[\"locus_name\"], df[\"alleles\"], df[\"locus_synonyms\"], df[\"v3_gene_model\"], df[\"v4_gene_model\"], df[\"uniprot_id\"], df[\"ncbi_gene\"])\n",
    "df[\"species\"] = \"zma\"\n",
    "df[\"term_ids\"] = \"\"\n",
    "df[\"pmid\"] = \"\"\n",
    "df = df[[\"species\", \"gene_names\", \"description\", \"term_ids\" ,\"pmid\"]]\n",
    "path = \"../data/reshaped/maize_descriptions.csv\"\n",
    "df.to_csv(path, index=False)\n",
    "\n",
    "\n"
   ]
  }
 ],
 "metadata": {
  "kernelspec": {
   "display_name": "Python 3",
   "language": "python",
   "name": "python3"
  },
  "language_info": {
   "codemirror_mode": {
    "name": "ipython",
    "version": 3
   },
   "file_extension": ".py",
   "mimetype": "text/x-python",
   "name": "python",
   "nbconvert_exporter": "python",
   "pygments_lexer": "ipython3",
   "version": "3.6.7"
  }
 },
 "nbformat": 4,
 "nbformat_minor": 2
}
